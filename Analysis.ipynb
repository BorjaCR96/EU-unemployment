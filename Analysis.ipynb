{
 "cells": [
  {
   "cell_type": "code",
   "execution_count": 26,
   "id": "01b96296",
   "metadata": {},
   "outputs": [],
   "source": [
    "import requests"
   ]
  },
  {
   "cell_type": "code",
   "execution_count": 27,
   "id": "5c79556d",
   "metadata": {},
   "outputs": [],
   "source": [
    "import os\n",
    "from dotenv import load_dotenv\n",
    "import pandas as pd\n",
    "import numpy as np\n",
    "import seaborn as sns\n",
    "import matplotlib.pyplot as plt\n",
    "import seaborn as sns"
   ]
  },
  {
   "cell_type": "code",
   "execution_count": 28,
   "id": "e8b815b7",
   "metadata": {},
   "outputs": [],
   "source": [
    "co2 = pd.read_csv(\"./co2.csv\")"
   ]
  },
  {
   "cell_type": "code",
   "execution_count": 29,
   "id": "775b8f5a",
   "metadata": {},
   "outputs": [],
   "source": [
    "url = \"https://www.iqair.com/air-pollution-data-api\""
   ]
  },
  {
   "cell_type": "code",
   "execution_count": 30,
   "id": "70e89469",
   "metadata": {},
   "outputs": [],
   "source": [
    "response = requests.get(url)"
   ]
  },
  {
   "cell_type": "code",
   "execution_count": 31,
   "id": "f861f9ff",
   "metadata": {},
   "outputs": [
    {
     "data": {
      "text/plain": [
       "200"
      ]
     },
     "execution_count": 31,
     "metadata": {},
     "output_type": "execute_result"
    }
   ],
   "source": [
    "response.status_code"
   ]
  },
  {
   "cell_type": "code",
   "execution_count": 32,
   "id": "297bf8bd",
   "metadata": {},
   "outputs": [],
   "source": [
    "parameters = {\"city\": \"Mumbai\", \"state\": \"Maharashtra\", \"country\": \"India\", \"key\": \"319014af-8d98-4260-91dc-6a965181f050\"}"
   ]
  },
  {
   "cell_type": "code",
   "execution_count": 33,
   "id": "43bdd738",
   "metadata": {},
   "outputs": [],
   "source": [
    "url_latest = \"http://api.airvisual.com/v2/city?\""
   ]
  },
  {
   "cell_type": "code",
   "execution_count": 34,
   "id": "b236c279",
   "metadata": {},
   "outputs": [],
   "source": [
    "response = requests.get(url = url_latest, params = parameters)"
   ]
  },
  {
   "cell_type": "code",
   "execution_count": 35,
   "id": "6cc62c1c",
   "metadata": {},
   "outputs": [
    {
     "data": {
      "text/plain": [
       "200"
      ]
     },
     "execution_count": 35,
     "metadata": {},
     "output_type": "execute_result"
    }
   ],
   "source": [
    "response.status_code"
   ]
  },
  {
   "cell_type": "code",
   "execution_count": 36,
   "id": "58c65e2d",
   "metadata": {},
   "outputs": [
    {
     "data": {
      "text/plain": [
       "{'status': 'success',\n",
       " 'data': {'city': 'Mumbai',\n",
       "  'state': 'Maharashtra',\n",
       "  'country': 'India',\n",
       "  'location': {'type': 'Point', 'coordinates': [72.88261, 19.07283]},\n",
       "  'current': {'weather': {'ts': '2021-07-09T08:00:00.000Z',\n",
       "    'tp': 31,\n",
       "    'pr': 1003,\n",
       "    'hu': 74,\n",
       "    'ws': 4.12,\n",
       "    'wd': 260,\n",
       "    'ic': '50d'},\n",
       "   'pollution': {'ts': '2021-07-09T09:00:00.000Z',\n",
       "    'aqius': 72,\n",
       "    'mainus': 'p2',\n",
       "    'aqicn': 32,\n",
       "    'maincn': 'p2'}}}}"
      ]
     },
     "execution_count": 36,
     "metadata": {},
     "output_type": "execute_result"
    }
   ],
   "source": [
    "response.json()"
   ]
  },
  {
   "cell_type": "code",
   "execution_count": 37,
   "id": "500996d7",
   "metadata": {},
   "outputs": [
    {
     "data": {
      "text/html": [
       "<div>\n",
       "<style scoped>\n",
       "    .dataframe tbody tr th:only-of-type {\n",
       "        vertical-align: middle;\n",
       "    }\n",
       "\n",
       "    .dataframe tbody tr th {\n",
       "        vertical-align: top;\n",
       "    }\n",
       "\n",
       "    .dataframe thead th {\n",
       "        text-align: right;\n",
       "    }\n",
       "</style>\n",
       "<table border=\"1\" class=\"dataframe\">\n",
       "  <thead>\n",
       "    <tr style=\"text-align: right;\">\n",
       "      <th></th>\n",
       "      <th>Unnamed: 0</th>\n",
       "      <th>sampling_date</th>\n",
       "      <th>state</th>\n",
       "      <th>location</th>\n",
       "      <th>type</th>\n",
       "      <th>so2</th>\n",
       "      <th>no2</th>\n",
       "      <th>rspm</th>\n",
       "      <th>spm</th>\n",
       "    </tr>\n",
       "  </thead>\n",
       "  <tbody>\n",
       "    <tr>\n",
       "      <th>0</th>\n",
       "      <td>0</td>\n",
       "      <td>February - M021990</td>\n",
       "      <td>Andhra Pradesh</td>\n",
       "      <td>Hyderabad</td>\n",
       "      <td>Residential, Rural and other Areas</td>\n",
       "      <td>4.8</td>\n",
       "      <td>17.4</td>\n",
       "      <td>0.0</td>\n",
       "      <td>0.0</td>\n",
       "    </tr>\n",
       "    <tr>\n",
       "      <th>1</th>\n",
       "      <td>1</td>\n",
       "      <td>February - M021990</td>\n",
       "      <td>Andhra Pradesh</td>\n",
       "      <td>Hyderabad</td>\n",
       "      <td>Industrial Area</td>\n",
       "      <td>3.1</td>\n",
       "      <td>7.0</td>\n",
       "      <td>0.0</td>\n",
       "      <td>0.0</td>\n",
       "    </tr>\n",
       "    <tr>\n",
       "      <th>2</th>\n",
       "      <td>2</td>\n",
       "      <td>February - M021990</td>\n",
       "      <td>Andhra Pradesh</td>\n",
       "      <td>Hyderabad</td>\n",
       "      <td>Residential, Rural and other Areas</td>\n",
       "      <td>6.2</td>\n",
       "      <td>28.5</td>\n",
       "      <td>0.0</td>\n",
       "      <td>0.0</td>\n",
       "    </tr>\n",
       "    <tr>\n",
       "      <th>3</th>\n",
       "      <td>3</td>\n",
       "      <td>March - M031990</td>\n",
       "      <td>Andhra Pradesh</td>\n",
       "      <td>Hyderabad</td>\n",
       "      <td>Residential, Rural and other Areas</td>\n",
       "      <td>6.3</td>\n",
       "      <td>14.7</td>\n",
       "      <td>0.0</td>\n",
       "      <td>0.0</td>\n",
       "    </tr>\n",
       "    <tr>\n",
       "      <th>4</th>\n",
       "      <td>4</td>\n",
       "      <td>March - M031990</td>\n",
       "      <td>Andhra Pradesh</td>\n",
       "      <td>Hyderabad</td>\n",
       "      <td>Industrial Area</td>\n",
       "      <td>4.7</td>\n",
       "      <td>7.5</td>\n",
       "      <td>0.0</td>\n",
       "      <td>0.0</td>\n",
       "    </tr>\n",
       "  </tbody>\n",
       "</table>\n",
       "</div>"
      ],
      "text/plain": [
       "   Unnamed: 0       sampling_date           state   location  \\\n",
       "0           0  February - M021990  Andhra Pradesh  Hyderabad   \n",
       "1           1  February - M021990  Andhra Pradesh  Hyderabad   \n",
       "2           2  February - M021990  Andhra Pradesh  Hyderabad   \n",
       "3           3     March - M031990  Andhra Pradesh  Hyderabad   \n",
       "4           4     March - M031990  Andhra Pradesh  Hyderabad   \n",
       "\n",
       "                                 type  so2   no2  rspm  spm  \n",
       "0  Residential, Rural and other Areas  4.8  17.4   0.0  0.0  \n",
       "1                     Industrial Area  3.1   7.0   0.0  0.0  \n",
       "2  Residential, Rural and other Areas  6.2  28.5   0.0  0.0  \n",
       "3  Residential, Rural and other Areas  6.3  14.7   0.0  0.0  \n",
       "4                     Industrial Area  4.7   7.5   0.0  0.0  "
      ]
     },
     "execution_count": 37,
     "metadata": {},
     "output_type": "execute_result"
    }
   ],
   "source": [
    "co2.head()"
   ]
  },
  {
   "cell_type": "code",
   "execution_count": 38,
   "id": "80ba0fee",
   "metadata": {},
   "outputs": [
    {
     "data": {
      "text/html": [
       "<div>\n",
       "<style scoped>\n",
       "    .dataframe tbody tr th:only-of-type {\n",
       "        vertical-align: middle;\n",
       "    }\n",
       "\n",
       "    .dataframe tbody tr th {\n",
       "        vertical-align: top;\n",
       "    }\n",
       "\n",
       "    .dataframe thead th {\n",
       "        text-align: right;\n",
       "    }\n",
       "</style>\n",
       "<table border=\"1\" class=\"dataframe\">\n",
       "  <thead>\n",
       "    <tr style=\"text-align: right;\">\n",
       "      <th></th>\n",
       "      <th>Unnamed: 0</th>\n",
       "      <th>sampling_date</th>\n",
       "      <th>state</th>\n",
       "      <th>location</th>\n",
       "      <th>types</th>\n",
       "      <th>so2</th>\n",
       "      <th>no2</th>\n",
       "      <th>rspm</th>\n",
       "      <th>spm</th>\n",
       "    </tr>\n",
       "  </thead>\n",
       "  <tbody>\n",
       "    <tr>\n",
       "      <th>0</th>\n",
       "      <td>0</td>\n",
       "      <td>February - M021990</td>\n",
       "      <td>Andhra Pradesh</td>\n",
       "      <td>Hyderabad</td>\n",
       "      <td>Residential, Rural and other Areas</td>\n",
       "      <td>4.8</td>\n",
       "      <td>17.4</td>\n",
       "      <td>0.0</td>\n",
       "      <td>0.0</td>\n",
       "    </tr>\n",
       "    <tr>\n",
       "      <th>1</th>\n",
       "      <td>1</td>\n",
       "      <td>February - M021990</td>\n",
       "      <td>Andhra Pradesh</td>\n",
       "      <td>Hyderabad</td>\n",
       "      <td>Industrial Area</td>\n",
       "      <td>3.1</td>\n",
       "      <td>7.0</td>\n",
       "      <td>0.0</td>\n",
       "      <td>0.0</td>\n",
       "    </tr>\n",
       "    <tr>\n",
       "      <th>2</th>\n",
       "      <td>2</td>\n",
       "      <td>February - M021990</td>\n",
       "      <td>Andhra Pradesh</td>\n",
       "      <td>Hyderabad</td>\n",
       "      <td>Residential, Rural and other Areas</td>\n",
       "      <td>6.2</td>\n",
       "      <td>28.5</td>\n",
       "      <td>0.0</td>\n",
       "      <td>0.0</td>\n",
       "    </tr>\n",
       "    <tr>\n",
       "      <th>3</th>\n",
       "      <td>3</td>\n",
       "      <td>March - M031990</td>\n",
       "      <td>Andhra Pradesh</td>\n",
       "      <td>Hyderabad</td>\n",
       "      <td>Residential, Rural and other Areas</td>\n",
       "      <td>6.3</td>\n",
       "      <td>14.7</td>\n",
       "      <td>0.0</td>\n",
       "      <td>0.0</td>\n",
       "    </tr>\n",
       "    <tr>\n",
       "      <th>4</th>\n",
       "      <td>4</td>\n",
       "      <td>March - M031990</td>\n",
       "      <td>Andhra Pradesh</td>\n",
       "      <td>Hyderabad</td>\n",
       "      <td>Industrial Area</td>\n",
       "      <td>4.7</td>\n",
       "      <td>7.5</td>\n",
       "      <td>0.0</td>\n",
       "      <td>0.0</td>\n",
       "    </tr>\n",
       "    <tr>\n",
       "      <th>...</th>\n",
       "      <td>...</td>\n",
       "      <td>...</td>\n",
       "      <td>...</td>\n",
       "      <td>...</td>\n",
       "      <td>...</td>\n",
       "      <td>...</td>\n",
       "      <td>...</td>\n",
       "      <td>...</td>\n",
       "      <td>...</td>\n",
       "    </tr>\n",
       "    <tr>\n",
       "      <th>435737</th>\n",
       "      <td>435737</td>\n",
       "      <td>24-12-15</td>\n",
       "      <td>West Bengal</td>\n",
       "      <td>ULUBERIA</td>\n",
       "      <td>RIRUO</td>\n",
       "      <td>22.0</td>\n",
       "      <td>50.0</td>\n",
       "      <td>143.0</td>\n",
       "      <td>0.0</td>\n",
       "    </tr>\n",
       "    <tr>\n",
       "      <th>435738</th>\n",
       "      <td>435738</td>\n",
       "      <td>29-12-15</td>\n",
       "      <td>West Bengal</td>\n",
       "      <td>ULUBERIA</td>\n",
       "      <td>RIRUO</td>\n",
       "      <td>20.0</td>\n",
       "      <td>46.0</td>\n",
       "      <td>171.0</td>\n",
       "      <td>0.0</td>\n",
       "    </tr>\n",
       "    <tr>\n",
       "      <th>435739</th>\n",
       "      <td>435739</td>\n",
       "      <td>0</td>\n",
       "      <td>andaman-and-nicobar-islands</td>\n",
       "      <td>0</td>\n",
       "      <td>0</td>\n",
       "      <td>0.0</td>\n",
       "      <td>0.0</td>\n",
       "      <td>0.0</td>\n",
       "      <td>0.0</td>\n",
       "    </tr>\n",
       "    <tr>\n",
       "      <th>435740</th>\n",
       "      <td>435740</td>\n",
       "      <td>0</td>\n",
       "      <td>Lakshadweep</td>\n",
       "      <td>0</td>\n",
       "      <td>0</td>\n",
       "      <td>0.0</td>\n",
       "      <td>0.0</td>\n",
       "      <td>0.0</td>\n",
       "      <td>0.0</td>\n",
       "    </tr>\n",
       "    <tr>\n",
       "      <th>435741</th>\n",
       "      <td>435741</td>\n",
       "      <td>0</td>\n",
       "      <td>Tripura</td>\n",
       "      <td>0</td>\n",
       "      <td>0</td>\n",
       "      <td>0.0</td>\n",
       "      <td>0.0</td>\n",
       "      <td>0.0</td>\n",
       "      <td>0.0</td>\n",
       "    </tr>\n",
       "  </tbody>\n",
       "</table>\n",
       "<p>435742 rows × 9 columns</p>\n",
       "</div>"
      ],
      "text/plain": [
       "        Unnamed: 0       sampling_date                        state  \\\n",
       "0                0  February - M021990               Andhra Pradesh   \n",
       "1                1  February - M021990               Andhra Pradesh   \n",
       "2                2  February - M021990               Andhra Pradesh   \n",
       "3                3     March - M031990               Andhra Pradesh   \n",
       "4                4     March - M031990               Andhra Pradesh   \n",
       "...            ...                 ...                          ...   \n",
       "435737      435737            24-12-15                  West Bengal   \n",
       "435738      435738            29-12-15                  West Bengal   \n",
       "435739      435739                   0  andaman-and-nicobar-islands   \n",
       "435740      435740                   0                  Lakshadweep   \n",
       "435741      435741                   0                      Tripura   \n",
       "\n",
       "         location                               types   so2   no2   rspm  spm  \n",
       "0       Hyderabad  Residential, Rural and other Areas   4.8  17.4    0.0  0.0  \n",
       "1       Hyderabad                     Industrial Area   3.1   7.0    0.0  0.0  \n",
       "2       Hyderabad  Residential, Rural and other Areas   6.2  28.5    0.0  0.0  \n",
       "3       Hyderabad  Residential, Rural and other Areas   6.3  14.7    0.0  0.0  \n",
       "4       Hyderabad                     Industrial Area   4.7   7.5    0.0  0.0  \n",
       "...           ...                                 ...   ...   ...    ...  ...  \n",
       "435737   ULUBERIA                               RIRUO  22.0  50.0  143.0  0.0  \n",
       "435738   ULUBERIA                               RIRUO  20.0  46.0  171.0  0.0  \n",
       "435739          0                                   0   0.0   0.0    0.0  0.0  \n",
       "435740          0                                   0   0.0   0.0    0.0  0.0  \n",
       "435741          0                                   0   0.0   0.0    0.0  0.0  \n",
       "\n",
       "[435742 rows x 9 columns]"
      ]
     },
     "metadata": {},
     "output_type": "display_data"
    }
   ],
   "source": [
    "co22 = co2.rename(columns={\"type\": \"types\"})\n",
    "display(co22)"
   ]
  },
  {
   "cell_type": "code",
   "execution_count": 39,
   "id": "64f8ce84",
   "metadata": {},
   "outputs": [],
   "source": [
    "#debido a que nos queremos fijar en la ciudad de Mumbai, lo que vamos hacer es filtrar el dataset para que nos de la información ralcionada con Mumbai#"
   ]
  },
  {
   "cell_type": "code",
   "execution_count": 40,
   "id": "eaa9b8f4",
   "metadata": {
    "scrolled": true
   },
   "outputs": [
    {
     "data": {
      "text/html": [
       "<div>\n",
       "<style scoped>\n",
       "    .dataframe tbody tr th:only-of-type {\n",
       "        vertical-align: middle;\n",
       "    }\n",
       "\n",
       "    .dataframe tbody tr th {\n",
       "        vertical-align: top;\n",
       "    }\n",
       "\n",
       "    .dataframe thead th {\n",
       "        text-align: right;\n",
       "    }\n",
       "</style>\n",
       "<table border=\"1\" class=\"dataframe\">\n",
       "  <thead>\n",
       "    <tr style=\"text-align: right;\">\n",
       "      <th></th>\n",
       "      <th>Unnamed: 0</th>\n",
       "      <th>sampling_date</th>\n",
       "      <th>state</th>\n",
       "      <th>location</th>\n",
       "      <th>types</th>\n",
       "      <th>so2</th>\n",
       "      <th>no2</th>\n",
       "      <th>rspm</th>\n",
       "      <th>spm</th>\n",
       "    </tr>\n",
       "  </thead>\n",
       "  <tbody>\n",
       "    <tr>\n",
       "      <th>197237</th>\n",
       "      <td>197237</td>\n",
       "      <td>5/2/1987</td>\n",
       "      <td>Maharashtra</td>\n",
       "      <td>Pune</td>\n",
       "      <td>0</td>\n",
       "      <td>0.0</td>\n",
       "      <td>10.4</td>\n",
       "      <td>0.0</td>\n",
       "      <td>0.0</td>\n",
       "    </tr>\n",
       "    <tr>\n",
       "      <th>197238</th>\n",
       "      <td>197238</td>\n",
       "      <td>5/3/1987</td>\n",
       "      <td>Maharashtra</td>\n",
       "      <td>Pune</td>\n",
       "      <td>Industrial</td>\n",
       "      <td>18.2</td>\n",
       "      <td>35.8</td>\n",
       "      <td>0.0</td>\n",
       "      <td>0.0</td>\n",
       "    </tr>\n",
       "    <tr>\n",
       "      <th>197239</th>\n",
       "      <td>197239</td>\n",
       "      <td>6/2/1987</td>\n",
       "      <td>Maharashtra</td>\n",
       "      <td>Pune</td>\n",
       "      <td>Industrial</td>\n",
       "      <td>11.3</td>\n",
       "      <td>16.3</td>\n",
       "      <td>0.0</td>\n",
       "      <td>0.0</td>\n",
       "    </tr>\n",
       "    <tr>\n",
       "      <th>197240</th>\n",
       "      <td>197240</td>\n",
       "      <td>16-06-87</td>\n",
       "      <td>Maharashtra</td>\n",
       "      <td>Pune</td>\n",
       "      <td>Residential</td>\n",
       "      <td>0.0</td>\n",
       "      <td>9.2</td>\n",
       "      <td>0.0</td>\n",
       "      <td>0.0</td>\n",
       "    </tr>\n",
       "    <tr>\n",
       "      <th>197241</th>\n",
       "      <td>197241</td>\n",
       "      <td>6/3/1987</td>\n",
       "      <td>Maharashtra</td>\n",
       "      <td>Pune</td>\n",
       "      <td>0</td>\n",
       "      <td>8.8</td>\n",
       "      <td>7.7</td>\n",
       "      <td>0.0</td>\n",
       "      <td>0.0</td>\n",
       "    </tr>\n",
       "  </tbody>\n",
       "</table>\n",
       "</div>"
      ],
      "text/plain": [
       "        Unnamed: 0 sampling_date        state location        types   so2  \\\n",
       "197237      197237      5/2/1987  Maharashtra     Pune            0   0.0   \n",
       "197238      197238      5/3/1987  Maharashtra     Pune   Industrial  18.2   \n",
       "197239      197239      6/2/1987  Maharashtra     Pune   Industrial  11.3   \n",
       "197240      197240      16-06-87  Maharashtra     Pune  Residential   0.0   \n",
       "197241      197241      6/3/1987  Maharashtra     Pune            0   8.8   \n",
       "\n",
       "         no2  rspm  spm  \n",
       "197237  10.4   0.0  0.0  \n",
       "197238  35.8   0.0  0.0  \n",
       "197239  16.3   0.0  0.0  \n",
       "197240   9.2   0.0  0.0  \n",
       "197241   7.7   0.0  0.0  "
      ]
     },
     "execution_count": 40,
     "metadata": {},
     "output_type": "execute_result"
    }
   ],
   "source": [
    "co2_filtered = co22.loc[(co22[\"state\"] == \"Maharashtra\") | (co22[\"location\"] == \"Mumbai\")]\n",
    "co2_filtered.head()"
   ]
  },
  {
   "cell_type": "markdown",
   "id": "be4af468",
   "metadata": {},
   "source": [
    "NOW WHERE ARE GOING TO SEE IF THERE IS ANY TYPE OF CORRELATION BETWEEN THE VARIABLES"
   ]
  },
  {
   "cell_type": "code",
   "execution_count": 41,
   "id": "bd40c680",
   "metadata": {},
   "outputs": [
    {
     "data": {
      "text/plain": [
       "<AxesSubplot:xlabel='rspm', ylabel='so2'>"
      ]
     },
     "execution_count": 41,
     "metadata": {},
     "output_type": "execute_result"
    },
    {
     "data": {
      "image/png": "[encoded data removed]",
      "text/plain": [
       "<Figure size 432x288 with 1 Axes>"
      ]
     },
     "metadata": {
      "needs_background": "light"
     },
     "output_type": "display_data"
    }
   ],
   "source": [
    "sns.scatterplot(x=\"rspm\", y=\"so2\", hue=\"types\", data=co2_filtered)"
   ]
  },
  {
   "cell_type": "code",
   "execution_count": 48,
   "id": "9683c00c",
   "metadata": {},
   "outputs": [
    {
     "data": {
      "image/png": "[encoded data removed]",
      "text/plain": [
       "<Figure size 432x288 with 1 Axes>"
      ]
     },
     "metadata": {
      "needs_background": "light"
     },
     "output_type": "display_data"
    }
   ],
   "source": [
    "ax = sns.countplot(y=\"types\", data=co2_filtered)"
   ]
  },
  {
   "cell_type": "code",
   "execution_count": 43,
   "id": "c8d94685",
   "metadata": {},
   "outputs": [],
   "source": [
    "# The API of AIRQuality do not give us enough information for the analysis"
   ]
  }
 ],
 "metadata": {
  "kernelspec": {
   "display_name": "Python 3",
   "language": "python",
   "name": "python3"
  },
  "language_info": {
   "codemirror_mode": {
    "name": "ipython",
    "version": 3
   },
   "file_extension": ".py",
   "mimetype": "text/x-python",
   "name": "python",
   "nbconvert_exporter": "python",
   "pygments_lexer": "ipython3",
   "version": "3.8.5"
  }
 },
 "nbformat": 4,
 "nbformat_minor": 5
}
